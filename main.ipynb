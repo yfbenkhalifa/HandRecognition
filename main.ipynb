{
 "cells": [
  {
   "cell_type": "markdown",
   "metadata": {},
   "source": [
    "# Hand Recognition"
   ]
  },
  {
   "cell_type": "code",
   "execution_count": 12,
   "metadata": {},
   "outputs": [
    {
     "ename": "ModuleNotFoundError",
     "evalue": "No module named 'cv2'",
     "output_type": "error",
     "traceback": [
      "\u001b[1;31m---------------------------------------------------------------------------\u001b[0m",
      "\u001b[1;31mModuleNotFoundError\u001b[0m                       Traceback (most recent call last)",
      "\u001b[1;32mc:\\Users\\yfben\\OneDrive - Università degli Studi di Padova\\Documents\\UniPD\\Git\\HandRecognition\\main.ipynb Cell 2'\u001b[0m in \u001b[0;36m<cell line: 5>\u001b[1;34m()\u001b[0m\n\u001b[0;32m      <a href='vscode-notebook-cell:/c%3A/Users/yfben/OneDrive%20-%20Universit%C3%A0%20degli%20Studi%20di%20Padova/Documents/UniPD/Git/HandRecognition/main.ipynb#ch0000001?line=2'>3</a>\u001b[0m \u001b[39mimport\u001b[39;00m \u001b[39mos\u001b[39;00m\n\u001b[0;32m      <a href='vscode-notebook-cell:/c%3A/Users/yfben/OneDrive%20-%20Universit%C3%A0%20degli%20Studi%20di%20Padova/Documents/UniPD/Git/HandRecognition/main.ipynb#ch0000001?line=3'>4</a>\u001b[0m \u001b[39mimport\u001b[39;00m \u001b[39mtensorflow\u001b[39;00m \u001b[39mas\u001b[39;00m \u001b[39mtf\u001b[39;00m\n\u001b[1;32m----> <a href='vscode-notebook-cell:/c%3A/Users/yfben/OneDrive%20-%20Universit%C3%A0%20degli%20Studi%20di%20Padova/Documents/UniPD/Git/HandRecognition/main.ipynb#ch0000001?line=4'>5</a>\u001b[0m \u001b[39mimport\u001b[39;00m \u001b[39mcv2\u001b[39;00m\n\u001b[0;32m      <a href='vscode-notebook-cell:/c%3A/Users/yfben/OneDrive%20-%20Universit%C3%A0%20degli%20Studi%20di%20Padova/Documents/UniPD/Git/HandRecognition/main.ipynb#ch0000001?line=5'>6</a>\u001b[0m \u001b[39mfrom\u001b[39;00m \u001b[39mtensorflow\u001b[39;00m \u001b[39mimport\u001b[39;00m keras\n\u001b[0;32m      <a href='vscode-notebook-cell:/c%3A/Users/yfben/OneDrive%20-%20Universit%C3%A0%20degli%20Studi%20di%20Padova/Documents/UniPD/Git/HandRecognition/main.ipynb#ch0000001?line=6'>7</a>\u001b[0m \u001b[39mfrom\u001b[39;00m \u001b[39mtensorflow\u001b[39;00m\u001b[39m.\u001b[39;00m\u001b[39mkeras\u001b[39;00m \u001b[39mimport\u001b[39;00m layers, Dense, Input, InputLayer, Flatten\n",
      "\u001b[1;31mModuleNotFoundError\u001b[0m: No module named 'cv2'"
     ]
    }
   ],
   "source": [
    "import pandas as pd\n",
    "import numpy as np\n",
    "import os\n",
    "import tensorflow as tf\n",
    "import cv2\n",
    "from tensorflow import keras\n",
    "from tensorflow.keras import layers, Dense, Input, InputLayer, Flatten\n",
    "from tensorflow.keras.models import Sequential, Model\n",
    "from  matplotlib import pyplot as plt\n",
    "import matplotlib.image as mpimg\n",
    "%matplotlib inline"
   ]
  },
  {
   "cell_type": "markdown",
   "metadata": {},
   "source": [
    "Loading image dataset"
   ]
  },
  {
   "cell_type": "code",
   "execution_count": 11,
   "metadata": {},
   "outputs": [
    {
     "ename": "FileNotFoundError",
     "evalue": "[WinError 3] The system cannot find the path specified: 'rgb\\\\d'",
     "output_type": "error",
     "traceback": [
      "\u001b[1;31m---------------------------------------------------------------------------\u001b[0m",
      "\u001b[1;31mFileNotFoundError\u001b[0m                         Traceback (most recent call last)",
      "\u001b[1;32mc:\\Users\\yfben\\OneDrive - Università degli Studi di Padova\\Documents\\UniPD\\Git\\HandRecognition\\main.ipynb Cell 3'\u001b[0m in \u001b[0;36m<cell line: 2>\u001b[1;34m()\u001b[0m\n\u001b[0;32m      <a href='vscode-notebook-cell:/c%3A/Users/yfben/OneDrive%20-%20Universit%C3%A0%20degli%20Studi%20di%20Padova/Documents/UniPD/Git/HandRecognition/main.ipynb#ch0000002?line=1'>2</a>\u001b[0m \u001b[39mfor\u001b[39;00m folder_name \u001b[39min\u001b[39;00m (\u001b[39m\"\u001b[39m\u001b[39mdataset\u001b[39m\u001b[39m\"\u001b[39m):\n\u001b[0;32m      <a href='vscode-notebook-cell:/c%3A/Users/yfben/OneDrive%20-%20Universit%C3%A0%20degli%20Studi%20di%20Padova/Documents/UniPD/Git/HandRecognition/main.ipynb#ch0000002?line=2'>3</a>\u001b[0m     folder_path \u001b[39m=\u001b[39m os\u001b[39m.\u001b[39mpath\u001b[39m.\u001b[39mjoin(\u001b[39m\"\u001b[39m\u001b[39mrgb\u001b[39m\u001b[39m\"\u001b[39m, folder_name)\n\u001b[1;32m----> <a href='vscode-notebook-cell:/c%3A/Users/yfben/OneDrive%20-%20Universit%C3%A0%20degli%20Studi%20di%20Padova/Documents/UniPD/Git/HandRecognition/main.ipynb#ch0000002?line=3'>4</a>\u001b[0m     \u001b[39mfor\u001b[39;00m fname \u001b[39min\u001b[39;00m os\u001b[39m.\u001b[39;49mlistdir(folder_path):\n\u001b[0;32m      <a href='vscode-notebook-cell:/c%3A/Users/yfben/OneDrive%20-%20Universit%C3%A0%20degli%20Studi%20di%20Padova/Documents/UniPD/Git/HandRecognition/main.ipynb#ch0000002?line=4'>5</a>\u001b[0m         fpath \u001b[39m=\u001b[39m os\u001b[39m.\u001b[39mpath\u001b[39m.\u001b[39mjoin(folder_path, fname)\n\u001b[0;32m      <a href='vscode-notebook-cell:/c%3A/Users/yfben/OneDrive%20-%20Universit%C3%A0%20degli%20Studi%20di%20Padova/Documents/UniPD/Git/HandRecognition/main.ipynb#ch0000002?line=5'>6</a>\u001b[0m         \u001b[39mtry\u001b[39;00m:\n",
      "\u001b[1;31mFileNotFoundError\u001b[0m: [WinError 3] The system cannot find the path specified: 'rgb\\\\d'"
     ]
    }
   ],
   "source": [
    "folder_path = \"dataset/rgb\"\n",
    "folder_names = (\"rgb\")\n",
    "\n",
    "for i in range(5):\n",
    "    file = random.choice(os.listdir(folder_path))\n",
    "    image_path= os.path.join(folder_path, file)\n",
    "    img=mpimg.imread(image_path)\n",
    "    ax=plt.subplot(1,5,i+1)\n",
    "    ax.title.set_text(file)\n",
    "    plt.imshow(img)\n"
   ]
  },
  {
   "cell_type": "code",
   "execution_count": 9,
   "metadata": {},
   "outputs": [
    {
     "name": "stdout",
     "output_type": "stream",
     "text": [
      "Found 0 files belonging to 0 classes.\n",
      "Using 0 files for training.\n"
     ]
    },
    {
     "ename": "ValueError",
     "evalue": "No images found in directory dataset/rgb. Allowed formats: ('.bmp', '.gif', '.jpeg', '.jpg', '.png')",
     "output_type": "error",
     "traceback": [
      "\u001b[1;31m---------------------------------------------------------------------------\u001b[0m",
      "\u001b[1;31mValueError\u001b[0m                                Traceback (most recent call last)",
      "\u001b[1;32mc:\\Users\\yfben\\OneDrive - Università degli Studi di Padova\\Documents\\UniPD\\Git\\HandRecognition\\main.ipynb Cell 4'\u001b[0m in \u001b[0;36m<cell line: 4>\u001b[1;34m()\u001b[0m\n\u001b[0;32m      <a href='vscode-notebook-cell:/c%3A/Users/yfben/OneDrive%20-%20Universit%C3%A0%20degli%20Studi%20di%20Padova/Documents/UniPD/Git/HandRecognition/main.ipynb#ch0000003?line=0'>1</a>\u001b[0m image_size \u001b[39m=\u001b[39m (\u001b[39m1280\u001b[39m, \u001b[39m720\u001b[39m)\n\u001b[0;32m      <a href='vscode-notebook-cell:/c%3A/Users/yfben/OneDrive%20-%20Universit%C3%A0%20degli%20Studi%20di%20Padova/Documents/UniPD/Git/HandRecognition/main.ipynb#ch0000003?line=1'>2</a>\u001b[0m batch_size \u001b[39m=\u001b[39m \u001b[39m3200\u001b[39m\n\u001b[1;32m----> <a href='vscode-notebook-cell:/c%3A/Users/yfben/OneDrive%20-%20Universit%C3%A0%20degli%20Studi%20di%20Padova/Documents/UniPD/Git/HandRecognition/main.ipynb#ch0000003?line=3'>4</a>\u001b[0m train_ds \u001b[39m=\u001b[39m tf\u001b[39m.\u001b[39;49mkeras\u001b[39m.\u001b[39;49mpreprocessing\u001b[39m.\u001b[39;49mimage_dataset_from_directory(\n\u001b[0;32m      <a href='vscode-notebook-cell:/c%3A/Users/yfben/OneDrive%20-%20Universit%C3%A0%20degli%20Studi%20di%20Padova/Documents/UniPD/Git/HandRecognition/main.ipynb#ch0000003?line=4'>5</a>\u001b[0m     folder_path,\n\u001b[0;32m      <a href='vscode-notebook-cell:/c%3A/Users/yfben/OneDrive%20-%20Universit%C3%A0%20degli%20Studi%20di%20Padova/Documents/UniPD/Git/HandRecognition/main.ipynb#ch0000003?line=5'>6</a>\u001b[0m     validation_split\u001b[39m=\u001b[39;49m\u001b[39m0.2\u001b[39;49m,\n\u001b[0;32m      <a href='vscode-notebook-cell:/c%3A/Users/yfben/OneDrive%20-%20Universit%C3%A0%20degli%20Studi%20di%20Padova/Documents/UniPD/Git/HandRecognition/main.ipynb#ch0000003?line=6'>7</a>\u001b[0m     subset\u001b[39m=\u001b[39;49m\u001b[39m\"\u001b[39;49m\u001b[39mtraining\u001b[39;49m\u001b[39m\"\u001b[39;49m,\n\u001b[0;32m      <a href='vscode-notebook-cell:/c%3A/Users/yfben/OneDrive%20-%20Universit%C3%A0%20degli%20Studi%20di%20Padova/Documents/UniPD/Git/HandRecognition/main.ipynb#ch0000003?line=7'>8</a>\u001b[0m     seed\u001b[39m=\u001b[39;49m\u001b[39m1337\u001b[39;49m,\n\u001b[0;32m      <a href='vscode-notebook-cell:/c%3A/Users/yfben/OneDrive%20-%20Universit%C3%A0%20degli%20Studi%20di%20Padova/Documents/UniPD/Git/HandRecognition/main.ipynb#ch0000003?line=8'>9</a>\u001b[0m     image_size\u001b[39m=\u001b[39;49mimage_size,\n\u001b[0;32m     <a href='vscode-notebook-cell:/c%3A/Users/yfben/OneDrive%20-%20Universit%C3%A0%20degli%20Studi%20di%20Padova/Documents/UniPD/Git/HandRecognition/main.ipynb#ch0000003?line=9'>10</a>\u001b[0m     batch_size\u001b[39m=\u001b[39;49mbatch_size,\n\u001b[0;32m     <a href='vscode-notebook-cell:/c%3A/Users/yfben/OneDrive%20-%20Universit%C3%A0%20degli%20Studi%20di%20Padova/Documents/UniPD/Git/HandRecognition/main.ipynb#ch0000003?line=10'>11</a>\u001b[0m )\n\u001b[0;32m     <a href='vscode-notebook-cell:/c%3A/Users/yfben/OneDrive%20-%20Universit%C3%A0%20degli%20Studi%20di%20Padova/Documents/UniPD/Git/HandRecognition/main.ipynb#ch0000003?line=11'>12</a>\u001b[0m val_ds \u001b[39m=\u001b[39m tf\u001b[39m.\u001b[39mkeras\u001b[39m.\u001b[39mpreprocessing\u001b[39m.\u001b[39mimage_dataset_from_directory(\n\u001b[0;32m     <a href='vscode-notebook-cell:/c%3A/Users/yfben/OneDrive%20-%20Universit%C3%A0%20degli%20Studi%20di%20Padova/Documents/UniPD/Git/HandRecognition/main.ipynb#ch0000003?line=12'>13</a>\u001b[0m     folder_path,\n\u001b[0;32m     <a href='vscode-notebook-cell:/c%3A/Users/yfben/OneDrive%20-%20Universit%C3%A0%20degli%20Studi%20di%20Padova/Documents/UniPD/Git/HandRecognition/main.ipynb#ch0000003?line=13'>14</a>\u001b[0m     validation_split\u001b[39m=\u001b[39m\u001b[39m0.2\u001b[39m,\n\u001b[1;32m   (...)\u001b[0m\n\u001b[0;32m     <a href='vscode-notebook-cell:/c%3A/Users/yfben/OneDrive%20-%20Universit%C3%A0%20degli%20Studi%20di%20Padova/Documents/UniPD/Git/HandRecognition/main.ipynb#ch0000003?line=17'>18</a>\u001b[0m     batch_size\u001b[39m=\u001b[39mbatch_size,\n\u001b[0;32m     <a href='vscode-notebook-cell:/c%3A/Users/yfben/OneDrive%20-%20Universit%C3%A0%20degli%20Studi%20di%20Padova/Documents/UniPD/Git/HandRecognition/main.ipynb#ch0000003?line=18'>19</a>\u001b[0m )\n",
      "File \u001b[1;32mc:\\Users\\yfben\\AppData\\Local\\Programs\\Python\\Python310\\lib\\site-packages\\keras\\utils\\image_dataset.py:209\u001b[0m, in \u001b[0;36mimage_dataset_from_directory\u001b[1;34m(directory, labels, label_mode, class_names, color_mode, batch_size, image_size, shuffle, seed, validation_split, subset, interpolation, follow_links, crop_to_aspect_ratio, **kwargs)\u001b[0m\n\u001b[0;32m    <a href='file:///c%3A/Users/yfben/AppData/Local/Programs/Python/Python310/lib/site-packages/keras/utils/image_dataset.py?line=205'>206</a>\u001b[0m image_paths, labels \u001b[39m=\u001b[39m dataset_utils\u001b[39m.\u001b[39mget_training_or_validation_split(\n\u001b[0;32m    <a href='file:///c%3A/Users/yfben/AppData/Local/Programs/Python/Python310/lib/site-packages/keras/utils/image_dataset.py?line=206'>207</a>\u001b[0m     image_paths, labels, validation_split, subset)\n\u001b[0;32m    <a href='file:///c%3A/Users/yfben/AppData/Local/Programs/Python/Python310/lib/site-packages/keras/utils/image_dataset.py?line=207'>208</a>\u001b[0m \u001b[39mif\u001b[39;00m \u001b[39mnot\u001b[39;00m image_paths:\n\u001b[1;32m--> <a href='file:///c%3A/Users/yfben/AppData/Local/Programs/Python/Python310/lib/site-packages/keras/utils/image_dataset.py?line=208'>209</a>\u001b[0m   \u001b[39mraise\u001b[39;00m \u001b[39mValueError\u001b[39;00m(\u001b[39mf\u001b[39m\u001b[39m'\u001b[39m\u001b[39mNo images found in directory \u001b[39m\u001b[39m{\u001b[39;00mdirectory\u001b[39m}\u001b[39;00m\u001b[39m. \u001b[39m\u001b[39m'\u001b[39m\n\u001b[0;32m    <a href='file:///c%3A/Users/yfben/AppData/Local/Programs/Python/Python310/lib/site-packages/keras/utils/image_dataset.py?line=209'>210</a>\u001b[0m                    \u001b[39mf\u001b[39m\u001b[39m'\u001b[39m\u001b[39mAllowed formats: \u001b[39m\u001b[39m{\u001b[39;00mALLOWLIST_FORMATS\u001b[39m}\u001b[39;00m\u001b[39m'\u001b[39m)\n\u001b[0;32m    <a href='file:///c%3A/Users/yfben/AppData/Local/Programs/Python/Python310/lib/site-packages/keras/utils/image_dataset.py?line=211'>212</a>\u001b[0m dataset \u001b[39m=\u001b[39m paths_and_labels_to_dataset(\n\u001b[0;32m    <a href='file:///c%3A/Users/yfben/AppData/Local/Programs/Python/Python310/lib/site-packages/keras/utils/image_dataset.py?line=212'>213</a>\u001b[0m     image_paths\u001b[39m=\u001b[39mimage_paths,\n\u001b[0;32m    <a href='file:///c%3A/Users/yfben/AppData/Local/Programs/Python/Python310/lib/site-packages/keras/utils/image_dataset.py?line=213'>214</a>\u001b[0m     image_size\u001b[39m=\u001b[39mimage_size,\n\u001b[1;32m   (...)\u001b[0m\n\u001b[0;32m    <a href='file:///c%3A/Users/yfben/AppData/Local/Programs/Python/Python310/lib/site-packages/keras/utils/image_dataset.py?line=218'>219</a>\u001b[0m     interpolation\u001b[39m=\u001b[39minterpolation,\n\u001b[0;32m    <a href='file:///c%3A/Users/yfben/AppData/Local/Programs/Python/Python310/lib/site-packages/keras/utils/image_dataset.py?line=219'>220</a>\u001b[0m     crop_to_aspect_ratio\u001b[39m=\u001b[39mcrop_to_aspect_ratio)\n\u001b[0;32m    <a href='file:///c%3A/Users/yfben/AppData/Local/Programs/Python/Python310/lib/site-packages/keras/utils/image_dataset.py?line=220'>221</a>\u001b[0m dataset \u001b[39m=\u001b[39m dataset\u001b[39m.\u001b[39mprefetch(tf\u001b[39m.\u001b[39mdata\u001b[39m.\u001b[39mAUTOTUNE)\n",
      "\u001b[1;31mValueError\u001b[0m: No images found in directory dataset/rgb. Allowed formats: ('.bmp', '.gif', '.jpeg', '.jpg', '.png')"
     ]
    }
   ],
   "source": [
    "image_size = (1280, 720)\n",
    "batch_size = 3200\n",
    "\n",
    "train_ds = tf.keras.preprocessing.image_dataset_from_directory(\n",
    "    folder_path,\n",
    "    validation_split=0.2,\n",
    "    subset=\"training\",\n",
    "    seed=1337,\n",
    "    image_size=image_size,\n",
    "    batch_size=batch_size,\n",
    ")\n",
    "val_ds = tf.keras.preprocessing.image_dataset_from_directory(\n",
    "    folder_path,\n",
    "    validation_split=0.2,\n",
    "    subset=\"validation\",\n",
    "    seed=1337,\n",
    "    image_size=image_size,\n",
    "    batch_size=batch_size,\n",
    ")"
   ]
  }
 ],
 "metadata": {
  "interpreter": {
   "hash": "f425395ffb6f3e0d5e7129e84b03af183902aa6dc13056c35a8ecfb032782f4d"
  },
  "kernelspec": {
   "display_name": "Python 3.10.3 64-bit",
   "language": "python",
   "name": "python3"
  },
  "language_info": {
   "codemirror_mode": {
    "name": "ipython",
    "version": 3
   },
   "file_extension": ".py",
   "mimetype": "text/x-python",
   "name": "python",
   "nbconvert_exporter": "python",
   "pygments_lexer": "ipython3",
   "version": "3.10.4"
  },
  "orig_nbformat": 4
 },
 "nbformat": 4,
 "nbformat_minor": 2
}
