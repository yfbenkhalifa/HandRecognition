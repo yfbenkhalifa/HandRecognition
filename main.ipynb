{
 "cells": [
  {
   "cell_type": "markdown",
   "metadata": {},
   "source": [
    "# Hand Recognition"
   ]
  },
  {
   "cell_type": "code",
   "execution_count": 2,
   "metadata": {},
   "outputs": [],
   "source": [
    "import tensorflow as tf\n",
    "\n",
    "from tensorflow.keras import datasets, layers, models\n",
    "import matplotlib.pyplot as plt\n"
   ]
  },
  {
   "cell_type": "code",
   "execution_count": 14,
   "metadata": {},
   "outputs": [
    {
     "ename": "NameError",
     "evalue": "name 'ImageDataGenerator' is not defined",
     "output_type": "error",
     "traceback": [
      "\u001b[0;31m---------------------------------------------------------------------------\u001b[0m",
      "\u001b[0;31mNameError\u001b[0m                                 Traceback (most recent call last)",
      "\u001b[1;32m/home/wiz/OneDrive/Documents/UniPD/Git/HandRecognition/main.ipynb Cell 3'\u001b[0m in \u001b[0;36m<cell line: 1>\u001b[0;34m()\u001b[0m\n\u001b[0;32m----> <a href='vscode-notebook-cell:/home/wiz/OneDrive/Documents/UniPD/Git/HandRecognition/main.ipynb#ch0000002?line=0'>1</a>\u001b[0m datagen \u001b[39m=\u001b[39m ImageDataGenerator(\n\u001b[1;32m      <a href='vscode-notebook-cell:/home/wiz/OneDrive/Documents/UniPD/Git/HandRecognition/main.ipynb#ch0000002?line=1'>2</a>\u001b[0m         rotation_range\u001b[39m=\u001b[39m\u001b[39m40\u001b[39m,\n\u001b[1;32m      <a href='vscode-notebook-cell:/home/wiz/OneDrive/Documents/UniPD/Git/HandRecognition/main.ipynb#ch0000002?line=2'>3</a>\u001b[0m         width_shift_range\u001b[39m=\u001b[39m\u001b[39m0.2\u001b[39m,\n\u001b[1;32m      <a href='vscode-notebook-cell:/home/wiz/OneDrive/Documents/UniPD/Git/HandRecognition/main.ipynb#ch0000002?line=3'>4</a>\u001b[0m         height_shift_range\u001b[39m=\u001b[39m\u001b[39m0.2\u001b[39m,\n\u001b[1;32m      <a href='vscode-notebook-cell:/home/wiz/OneDrive/Documents/UniPD/Git/HandRecognition/main.ipynb#ch0000002?line=4'>5</a>\u001b[0m         shear_range\u001b[39m=\u001b[39m\u001b[39m0.2\u001b[39m,\n\u001b[1;32m      <a href='vscode-notebook-cell:/home/wiz/OneDrive/Documents/UniPD/Git/HandRecognition/main.ipynb#ch0000002?line=5'>6</a>\u001b[0m         zoom_range\u001b[39m=\u001b[39m\u001b[39m0.2\u001b[39m,\n\u001b[1;32m      <a href='vscode-notebook-cell:/home/wiz/OneDrive/Documents/UniPD/Git/HandRecognition/main.ipynb#ch0000002?line=6'>7</a>\u001b[0m         horizontal_flip\u001b[39m=\u001b[39m\u001b[39mTrue\u001b[39;00m,\n\u001b[1;32m      <a href='vscode-notebook-cell:/home/wiz/OneDrive/Documents/UniPD/Git/HandRecognition/main.ipynb#ch0000002?line=7'>8</a>\u001b[0m         fill_mode\u001b[39m=\u001b[39m\u001b[39m'\u001b[39m\u001b[39mnearest\u001b[39m\u001b[39m'\u001b[39m)\n\u001b[1;32m     <a href='vscode-notebook-cell:/home/wiz/OneDrive/Documents/UniPD/Git/HandRecognition/main.ipynb#ch0000002?line=9'>10</a>\u001b[0m img \u001b[39m=\u001b[39m load_img(\u001b[39m'\u001b[39m\u001b[39mdataset/rgb/01.jpg\u001b[39m\u001b[39m'\u001b[39m)  \u001b[39m# this is a PIL image\u001b[39;00m\n\u001b[1;32m     <a href='vscode-notebook-cell:/home/wiz/OneDrive/Documents/UniPD/Git/HandRecognition/main.ipynb#ch0000002?line=10'>11</a>\u001b[0m x \u001b[39m=\u001b[39m img_to_array(img)  \u001b[39m# this is a Numpy array with shape (3, 150, 150)\u001b[39;00m\n",
      "\u001b[0;31mNameError\u001b[0m: name 'ImageDataGenerator' is not defined"
     ]
    }
   ],
   "source": [
    "\n",
    "datagen = ImageDataGenerator(\n",
    "        rotation_range=40,\n",
    "        width_shift_range=0.2,\n",
    "        height_shift_range=0.2,\n",
    "        shear_range=0.2,\n",
    "        zoom_range=0.2,\n",
    "        horizontal_flip=True,\n",
    "        fill_mode='nearest')\n",
    "\n",
    "img = load_img('dataset/rgb/01.jpg')  # this is a PIL image\n",
    "x = img_to_array(img)  # this is a Numpy array with shape (3, 150, 150)\n",
    "x = x.reshape((1,) + x.shape)  # this is a Numpy array with shape (1, 3, 150, 150)\n"
   ]
  }
 ],
 "metadata": {
  "interpreter": {
   "hash": "916dbcbb3f70747c44a77c7bcd40155683ae19c65e1c03b4aa3499c5328201f1"
  },
  "kernelspec": {
   "display_name": "Python 3.10.4 64-bit",
   "language": "python",
   "name": "python3"
  },
  "language_info": {
   "codemirror_mode": {
    "name": "ipython",
    "version": 3
   },
   "file_extension": ".py",
   "mimetype": "text/x-python",
   "name": "python",
   "nbconvert_exporter": "python",
   "pygments_lexer": "ipython3",
   "version": "3.10.4"
  },
  "orig_nbformat": 4
 },
 "nbformat": 4,
 "nbformat_minor": 2
}
